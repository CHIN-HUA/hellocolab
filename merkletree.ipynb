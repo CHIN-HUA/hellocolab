{
  "nbformat": 4,
  "nbformat_minor": 0,
  "metadata": {
    "colab": {
      "name": "merkletree.ipynb",
      "provenance": [],
      "authorship_tag": "ABX9TyNfY+Uj1ZdTxVA0A/ZclxNe",
      "include_colab_link": true
    },
    "kernelspec": {
      "name": "python3",
      "display_name": "Python 3"
    },
    "language_info": {
      "name": "python"
    }
  },
  "cells": [
    {
      "cell_type": "markdown",
      "metadata": {
        "id": "view-in-github",
        "colab_type": "text"
      },
      "source": [
        "<a href=\"https://colab.research.google.com/github/CHIN-HUA/hellocolab/blob/main/merkletree.ipynb\" target=\"_parent\"><img src=\"https://colab.research.google.com/assets/colab-badge.svg\" alt=\"Open In Colab\"/></a>"
      ]
    },
    {
      "cell_type": "code",
      "metadata": {
        "colab": {
          "base_uri": "https://localhost:8080/"
        },
        "id": "wBIWfsnDPsKf",
        "outputId": "7f9dc911-33b3-4843-f99a-0b340d0fd94f"
      },
      "source": [
        "import hashlib ##引入安全hash\n",
        "\n",
        "def hash_data(data, hash_function = 'sha256'): #sha256算法\n",
        "    \"hash function\"\n",
        "    hash_function = getattr(hashlib, hash_function) \n",
        "    data = data.encode('utf-8')\n",
        "    return hash_function(data).hexdigest()\n",
        "\n",
        "def concat_and_hash_list(lst, hash_function = 'sha256'):\n",
        "    lst1 = []\n",
        "    for i in lst:\n",
        "        lst1.append(hash_data(i)) #一個一個建list\n",
        "    # print(lst1)\n",
        "\n",
        "    assert len(lst1)>2, \"no tracnsactions to be hashed\"   ####len抓字節數目 #####assert用來斷言 len(lst1) <= 2 斷開執行\n",
        "    n = 0 #merkle树高度\n",
        "    while len(lst1) >1:\n",
        "        n += 1\n",
        "        if len(lst1)%2 == 0: #兩個hash節點產生一個tree\n",
        "            v = []\n",
        "            while len(lst1) >1 :\n",
        "                a = lst1.pop(0)\n",
        "                b = lst1.pop(0)\n",
        "                v.append(hash_data(a+b, hash_function))\n",
        "            lst1 = v\n",
        "        else:\n",
        "            v = []\n",
        "            l = lst1.pop(-1)\n",
        "            while len(lst1) >1 :\n",
        "                a = lst1.pop(0)\n",
        "                b = lst1.pop(0)\n",
        "                v.append(hash_data(a+b, hash_function))\n",
        "            v.append(l)\n",
        "            lst1 = v\n",
        "    return lst1, n+1\n",
        "\n",
        "\n",
        "l = ['a', 'b', 'c',\"d\"]\n",
        "print(concat_and_hash_list(l))"
      ],
      "execution_count": 2,
      "outputs": [
        {
          "output_type": "stream",
          "name": "stdout",
          "text": [
            "(['58c89d709329eb37285837b042ab6ff72c7c8f74de0446b091b6a0131c102cfd'], 3)\n"
          ]
        }
      ]
    }
  ]
}