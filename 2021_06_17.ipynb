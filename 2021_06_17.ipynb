{
  "nbformat": 4,
  "nbformat_minor": 0,
  "metadata": {
    "kernelspec": {
      "display_name": "Python 3",
      "language": "python",
      "name": "python3"
    },
    "language_info": {
      "codemirror_mode": {
        "name": "ipython",
        "version": 3
      },
      "file_extension": ".py",
      "mimetype": "text/x-python",
      "name": "python",
      "nbconvert_exporter": "python",
      "pygments_lexer": "ipython3",
      "version": "3.8.5"
    },
    "colab": {
      "name": "2021-06-17.ipynb",
      "provenance": [],
      "collapsed_sections": [],
      "include_colab_link": true
    }
  },
  "cells": [
    {
      "cell_type": "markdown",
      "metadata": {
        "id": "view-in-github",
        "colab_type": "text"
      },
      "source": [
        "<a href=\"https://colab.research.google.com/github/CHIN-HUA/hellocolab/blob/main/2021_06_17.ipynb\" target=\"_parent\"><img src=\"https://colab.research.google.com/assets/colab-badge.svg\" alt=\"Open In Colab\"/></a>"
      ]
    },
    {
      "cell_type": "code",
      "metadata": {
        "id": "i5Rgf_xxLOtD"
      },
      "source": [
        "# prepare for Latex Output\n",
        "from IPython.display import HTML,Latex\n",
        "\n",
        "# Colored output in Python\n",
        "\n",
        "W  = '\\033[0m'  # white (normal)\n",
        "K  = '\\033[30m' # black\n",
        "R  = '\\033[31m' # red\n",
        "G  = '\\033[32m' # green\n",
        "O  = '\\033[1;33m' # orange\n",
        "B  = '\\033[34m' # blue\n",
        "P  = '\\033[35m' # purple\n",
        "T =  '\\033[1;33;47m' #Title\n",
        "\n",
        "# sympy functions and properties \n",
        "\n",
        "from sympy import symbols,pprint,integrate,diff,latex,simplify,Matrix,Abs,Ei,erf,erfc,E,Ne\n",
        "from sympy import pi,sqrt,sin,cos,log,exp,oo,E,tan,Piecewise,asin,atan"
      ],
      "execution_count": null,
      "outputs": []
    },
    {
      "cell_type": "code",
      "metadata": {
        "id": "b_uxSL_PLOtF"
      },
      "source": [
        "# Variable declared\n",
        "# x,y,z: variable Cartesian Corrdinates\n",
        "# r,Theta: r,𝛉 in Polar Coordinates\n",
        "# Rho,Theta,Phi: 𝛒, 𝛉, 𝛟 in Spherical Coordinates\n",
        "\n",
        "x,y,z,u,v,w,Theta=symbols(\"x y z u v w theta\")\n",
        "r,Rho,Phi=symbols(\"r,rho,phi\",positive=True)\n",
        "a,b,c=symbols(\"a,b,c\")"
      ],
      "execution_count": null,
      "outputs": []
    },
    {
      "cell_type": "code",
      "metadata": {
        "id": "yCywwWT_LOtF"
      },
      "source": [
        "def Jacobian_det(XU,U):\n",
        "    \"\"\"\n",
        "    Calculate the Jacobian, 𝛛X/𝛛U\n",
        "    input: XU: original coordinates, X, in form of new coordinates, U,\n",
        "           U: new Coordinates \n",
        "    output: absolute value of determinant of Jacobian       \n",
        "    \"\"\"\n",
        "    \n",
        "    MX=Matrix(XU)\n",
        "    MU=Matrix(U)\n",
        "    S= MX.jacobian(MU )     \n",
        "    return simplify(Abs(S.det()))"
      ],
      "execution_count": null,
      "outputs": []
    },
    {
      "cell_type": "code",
      "metadata": {
        "id": "Ylvd0kdELOtH"
      },
      "source": [
        "def DoubleInt(f,X,XR):\n",
        "    \n",
        "    Iy=integrate(f,[X[1],XR[1][0],XR[1][1]])\n",
        "    I=integrate(Iy,[X[0],XR[0][0],XR[0][1]])\n",
        "    #print(\"  %s \\t  %s\" %(xr[1],yr[1]))\n",
        "    yrs=str(XR[1][1])\n",
        "    xrs=' '+str(XR[0][1])\n",
        "    print(xrs.ljust(9,' ')+yrs)\n",
        "    print(\"ʃ   d\",R+'{}'.format(X[0]),K+\"ʃ \",B+\"{}\".format(f),K+\" d\",R+\"{}\".format(X[1]),K+\" = \",\"{}\".format(I)) \n",
        "    \n",
        "    yrs0=str(XR[1][0])\n",
        "    xrs0=str(XR[0][0])\n",
        "    print(xrs0.ljust(8,' ')+yrs0)\n",
        "    return I"
      ],
      "execution_count": null,
      "outputs": []
    },
    {
      "cell_type": "code",
      "metadata": {
        "colab": {
          "base_uri": "https://localhost:8080/",
          "height": 88
        },
        "id": "BxRiNY6VLOtH",
        "outputId": "056d9f69-86b4-4073-d6a3-8fc9771e2628"
      },
      "source": [
        "f=x*y\n",
        "X=[x,y]\n",
        "XR=[[0,4],[0,2]]\n",
        "\n",
        "DoubleInt(f,X,XR)"
      ],
      "execution_count": null,
      "outputs": [
        {
          "output_type": "stream",
          "text": [
            " 4       2\n",
            "ʃ   d \u001b[31mx \u001b[30mʃ  \u001b[34mx*y \u001b[30m d \u001b[31my \u001b[30m =  16\n",
            "0       0\n"
          ],
          "name": "stdout"
        },
        {
          "output_type": "execute_result",
          "data": {
            "text/latex": "$\\displaystyle 16$",
            "text/plain": [
              "16"
            ]
          },
          "metadata": {
            "tags": []
          },
          "execution_count": 6
        }
      ]
    },
    {
      "cell_type": "code",
      "metadata": {
        "code_folding": [
          0
        ],
        "id": "Zu7-C7cfLOtH"
      },
      "source": [
        "def TripleInt(f,X,XR):\n",
        "    \n",
        "    Iz=integrate(f,[X[2],XR[2][0],XR[2][1]])\n",
        "    Iy=integrate(Iz,[X[1],XR[1][0],XR[1][1]])\n",
        "    Ix=integrate(Iy,[X[0],XR[0][0],XR[0][1]])\n",
        "    zrs=' '+str(XR[2][1])\n",
        "    yrs=str(XR[1][1])\n",
        "    xrs=' '+str(XR[0][1])\n",
        "    print(xrs.ljust(9,' ')+O+yrs.ljust(7,' ')+K+zrs)\n",
        "    #print(\"  %s \\t  %s  \\t  %s\" %(xr[1],yr[1],zr[1]))\n",
        "    print(\"ʃ   d\",R+'{}'.format(X[0]),\n",
        "        K+\"ʃ   d\",R+'{}'.format(X[1]),\n",
        "        K+\"ʃ \",B+\"{}\".format(f),K+\"  d\",R+\"{}\".format(X[2]),K+\" = \",\"{}\".format(Ix))   \n",
        "    zrs1=' '+str(XR[2][0])\n",
        "    yrs1=str(XR[1][0])\n",
        "    xrs1=' '+str(XR[0][0])\n",
        "    print(xrs1.ljust(8,' ')+O+yrs1.ljust(7,' ')+K+zrs1)\n",
        "    #print(\" %s \\t %s  \\t %s\" %(xr[0],yr[0],zr[0]))\n",
        "    return Ix"
      ],
      "execution_count": null,
      "outputs": []
    },
    {
      "cell_type": "markdown",
      "metadata": {
        "id": "hMHIiOZ6LOtI"
      },
      "source": [
        "\\begin{eqnarray}\\iiint_{\\Large{\\mathbf{V}}=\\left\\{\\large{\\begin{array}{l} 0 \\le x \\le 4,\\cr 0 \\le y \\le 2 - \\frac{x}{2},\\cr 0 \\le z \\le - \\frac{x}{2} - y + 2,\\cr\\end{array}}\\right\\}} \\color{brown}{x y} dV&=& \\iiint_{\\Large{\\mathbf{V}}} \\color{brown}{x y}  d x  d y  d z  \\cr \\color{blue}{\\text{Fubini's Theorem}}&=&\\int_{0}^{4}d{x}\\int_{0}^{2 - \\frac{x}{2}}d{y}\\int_{0}^{- \\frac{x}{2} - y + 2} \\color{brown}{x y}d{z}\\cr &=&\\int_{0}^{4} d{x}\\int_{0}^{2 - \\frac{x}{2}} \\left.\\color{brown}{x y z} \\right|_{0}^{- \\frac{x}{2} - y + 2} d{y}\\cr&=&\\int_{0}^{4}d{x}\\int_{0}^{2 - \\frac{x}{2}} \\color{brown}{x y \\left(- \\frac{x}{2} - y + 2\\right)}d{y}\\cr &=&\\int_{0}^{4} \\left. \\color{brown}{- \\frac{x y^{3}}{3} + y^{2} \\left(- \\frac{x^{2}}{4} + x\\right)} \\right|_{0}^{2 - \\frac{x}{2}} d{x}\\cr&=&\\int_{0}^{4} \\color{brown}{- \\frac{x \\left(2 - \\frac{x}{2}\\right)^{3}}{3} + \\left(2 - \\frac{x}{2}\\right)^{2} \\left(- \\frac{x^{2}}{4} + x\\right)}d{x}\\cr &=&\\left. \\color{brown}{- \\frac{x^{5}}{240} + \\frac{x^{4}}{16} - \\frac{x^{3}}{3} + \\frac{2 x^{2}}{3}} \\right|_{0}^{4}\\cr&=&1.0666666666666667\\end{eqnarray}"
      ]
    },
    {
      "cell_type": "code",
      "metadata": {
        "colab": {
          "base_uri": "https://localhost:8080/",
          "height": 102
        },
        "id": "7CiagCFhLOtI",
        "outputId": "d379beca-8e3e-4dbe-e0a5-f206b30596bc"
      },
      "source": [
        "# xy, x+2y+2z<4\n",
        "\n",
        "f=x*y\n",
        "X=[x,y,z]\n",
        "XR=[[0,4],[0,2-x/2],[0,2-y-x/2]]\n",
        "\n",
        "TripleInt(f,X,XR)"
      ],
      "execution_count": null,
      "outputs": [
        {
          "output_type": "stream",
          "text": [
            " 4       \u001b[1;33m2 - x/2\u001b[30m -x/2 - y + 2\n",
            "ʃ   d \u001b[31mx \u001b[30mʃ   d \u001b[31my \u001b[30mʃ  \u001b[34mx*y \u001b[30m  d \u001b[31mz \u001b[30m =  16/15\n",
            " 0      \u001b[1;33m0      \u001b[30m 0\n"
          ],
          "name": "stdout"
        },
        {
          "output_type": "execute_result",
          "data": {
            "text/latex": "$\\displaystyle \\frac{16}{15}$",
            "text/plain": [
              "16/15"
            ]
          },
          "metadata": {
            "tags": []
          },
          "execution_count": 8
        }
      ]
    },
    {
      "cell_type": "markdown",
      "metadata": {
        "id": "2LFbwFYdLOtJ"
      },
      "source": [
        "\\begin{eqnarray}\\iiint_{\\Large{\\mathbf{V}}=\\left\\{\\large{\\begin{array}{l} 1 \\le y \\le 6,\\cr y^{2} \\le x \\le y^{3},\\cr 0 \\le z \\le \\frac{\\pi}{2},\\cr\\end{array}}\\right\\}} \\color{brown}{\\sqrt{\\frac{x}{y}} \\sin{\\left(z \\right)}} dV&=& \\iiint_{\\Large{\\mathbf{V}}} \\color{brown}{\\sqrt{\\frac{x}{y}} \\sin{\\left(z \\right)}}  d y  d x  d z  \\cr \\color{blue}{\\text{Fubini's Theorem}}&=&\\int_{1}^{6}d{y}\\int_{y^{2}}^{y^{3}}d{x}\\int_{0}^{\\frac{\\pi}{2}} \\color{brown}{\\sqrt{\\frac{x}{y}} \\sin{\\left(z \\right)}}d{z}\\cr &=&\\int_{1}^{6} d{y}\\int_{y^{2}}^{y^{3}} \\left.\\color{brown}{- \\sqrt{\\frac{x}{y}} \\cos{\\left(z \\right)}} \\right|_{0}^{\\frac{\\pi}{2}} d{x}\\cr&=&\\int_{1}^{6}d{y}\\int_{y^{2}}^{y^{3}} \\color{brown}{\\sqrt{\\frac{x}{y}}}d{x}\\cr &=&\\int_{1}^{6} \\left. \\color{brown}{\\frac{2 y \\left(\\frac{x}{y}\\right)^{1.5}}{3}} \\right|_{y^{2}}^{y^{3}} d{y}\\cr&=&\\int_{1}^{6} \\color{brown}{\\frac{2 y \\left(y^{2}\\right)^{1.5}}{3} - \\frac{2 y^{2.5}}{3}}d{y}\\cr &=&\\left. \\color{brown}{\\frac{2 y^{5}}{15} - \\frac{4 y^{3.5}}{21}} \\right|_{1}^{6}\\cr&=&1036.85714285714 - \\frac{288 \\sqrt{6}}{7}\\end{eqnarray}"
      ]
    },
    {
      "cell_type": "code",
      "metadata": {
        "colab": {
          "base_uri": "https://localhost:8080/",
          "height": 106
        },
        "id": "y-XAkqsZLOtJ",
        "outputId": "de3c15c3-7f1a-4ba9-d6b4-f55e2f84e0fe"
      },
      "source": [
        "f=sqrt(x/y)*sin(z)\n",
        "X=[y,x,z]\n",
        "XR=[[1,6],[y**2,y**3],[0,pi/2]]\n",
        "\n",
        "TripleInt(f,X,XR)"
      ],
      "execution_count": null,
      "outputs": [
        {
          "output_type": "stream",
          "text": [
            " 6       \u001b[1;33my**3   \u001b[30m pi/2\n",
            "ʃ   d \u001b[31my \u001b[30mʃ   d \u001b[31mx \u001b[30mʃ  \u001b[34msqrt(x/y)*sin(z) \u001b[30m  d \u001b[31mz \u001b[30m =  7258/7 - 288*sqrt(6)/7\n",
            " 1      \u001b[1;33my**2   \u001b[30m 0\n"
          ],
          "name": "stdout"
        },
        {
          "output_type": "execute_result",
          "data": {
            "text/latex": "$\\displaystyle \\frac{7258}{7} - \\frac{288 \\sqrt{6}}{7}$",
            "text/plain": [
              "7258/7 - 288*sqrt(6)/7"
            ]
          },
          "metadata": {
            "tags": []
          },
          "execution_count": 9
        }
      ]
    },
    {
      "cell_type": "code",
      "metadata": {
        "id": "iT6zqKOPLOtK"
      },
      "source": [
        ""
      ],
      "execution_count": null,
      "outputs": []
    }
  ]
}